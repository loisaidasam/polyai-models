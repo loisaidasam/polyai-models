{
  "nbformat": 4,
  "nbformat_minor": 0,
  "metadata": {
    "colab": {
      "name": "convert-examples.ipynb",
      "provenance": [],
      "collapsed_sections": [],
      "toc_visible": true,
      "include_colab_link": true
    },
    "kernelspec": {
      "name": "python3",
      "display_name": "Python 3"
    },
    "accelerator": "GPU"
  },
  "cells": [
    {
      "cell_type": "markdown",
      "metadata": {
        "id": "view-in-github",
        "colab_type": "text"
      },
      "source": [
        "<a href=\"https://colab.research.google.com/gist/matthen/1fc745ae1c91a9ba32413ed9ab2acc09/convert-examples.ipynb\" target=\"_parent\"><img src=\"https://colab.research.google.com/assets/colab-badge.svg\" alt=\"Open In Colab\"/></a>"
      ]
    },
    {
      "cell_type": "markdown",
      "metadata": {
        "id": "6VslZQSrMHCp",
        "colab_type": "text"
      },
      "source": [
        "# ConveRT\n",
        "## More Efficient and Accurate Conversational Representations from Transformers\n",
        "\n",
        "This notebook demonstrates how to use the ConveRT model, to encode sentences to a meaningful semantic space, and to rank responses in a conversation."
      ]
    },
    {
      "cell_type": "markdown",
      "metadata": {
        "id": "YVFi1UXcLwdo",
        "colab_type": "text"
      },
      "source": [
        "# Install dependencies\n",
        "\n",
        "The encoder model requires the subword tokenization ops from the [tensorflow.text](https://github.com/tensorflow/text) module to run. This is released for tensorflow 2.0 and 1.14. In this colab we opt for tf 1.14."
      ]
    },
    {
      "cell_type": "code",
      "metadata": {
        "id": "5v96iAgaGyKt",
        "colab_type": "code",
        "outputId": "3e612a0c-be5e-4acc-b2c9-171a532adfea",
        "colab": {
          "base_uri": "https://localhost:8080/",
          "height": 734
        }
      },
      "source": [
        "!pip install tensorflow-gpu==1.14.0\n",
        "!pip install --no-deps tensorflow_text==0.1.0"
      ],
      "execution_count": 0,
      "outputs": [
        {
          "output_type": "stream",
          "text": [
            "Collecting tensorflow-gpu==1.14.0\n",
            "\u001b[?25l  Downloading https://files.pythonhosted.org/packages/76/04/43153bfdfcf6c9a4c38ecdb971ca9a75b9a791bb69a764d652c359aca504/tensorflow_gpu-1.14.0-cp36-cp36m-manylinux1_x86_64.whl (377.0MB)\n",
            "\u001b[K     |████████████████████████████████| 377.0MB 41kB/s \n",
            "\u001b[?25hRequirement already satisfied: astor>=0.6.0 in /usr/local/lib/python3.6/dist-packages (from tensorflow-gpu==1.14.0) (0.8.0)\n",
            "Requirement already satisfied: google-pasta>=0.1.6 in /usr/local/lib/python3.6/dist-packages (from tensorflow-gpu==1.14.0) (0.1.7)\n",
            "Collecting tensorflow-estimator<1.15.0rc0,>=1.14.0rc0\n",
            "\u001b[?25l  Downloading https://files.pythonhosted.org/packages/3c/d5/21860a5b11caf0678fbc8319341b0ae21a07156911132e0e71bffed0510d/tensorflow_estimator-1.14.0-py2.py3-none-any.whl (488kB)\n",
            "\u001b[K     |████████████████████████████████| 491kB 42.4MB/s \n",
            "\u001b[?25hRequirement already satisfied: termcolor>=1.1.0 in /usr/local/lib/python3.6/dist-packages (from tensorflow-gpu==1.14.0) (1.1.0)\n",
            "Requirement already satisfied: grpcio>=1.8.6 in /usr/local/lib/python3.6/dist-packages (from tensorflow-gpu==1.14.0) (1.15.0)\n",
            "Requirement already satisfied: absl-py>=0.7.0 in /usr/local/lib/python3.6/dist-packages (from tensorflow-gpu==1.14.0) (0.8.1)\n",
            "Requirement already satisfied: gast>=0.2.0 in /usr/local/lib/python3.6/dist-packages (from tensorflow-gpu==1.14.0) (0.2.2)\n",
            "Requirement already satisfied: numpy<2.0,>=1.14.5 in /usr/local/lib/python3.6/dist-packages (from tensorflow-gpu==1.14.0) (1.17.3)\n",
            "Requirement already satisfied: six>=1.10.0 in /usr/local/lib/python3.6/dist-packages (from tensorflow-gpu==1.14.0) (1.12.0)\n",
            "Requirement already satisfied: wheel>=0.26 in /usr/local/lib/python3.6/dist-packages (from tensorflow-gpu==1.14.0) (0.33.6)\n",
            "Requirement already satisfied: wrapt>=1.11.1 in /usr/local/lib/python3.6/dist-packages (from tensorflow-gpu==1.14.0) (1.11.2)\n",
            "Requirement already satisfied: keras-preprocessing>=1.0.5 in /usr/local/lib/python3.6/dist-packages (from tensorflow-gpu==1.14.0) (1.1.0)\n",
            "Collecting tensorboard<1.15.0,>=1.14.0\n",
            "\u001b[?25l  Downloading https://files.pythonhosted.org/packages/91/2d/2ed263449a078cd9c8a9ba50ebd50123adf1f8cfbea1492f9084169b89d9/tensorboard-1.14.0-py3-none-any.whl (3.1MB)\n",
            "\u001b[K     |████████████████████████████████| 3.2MB 59.5MB/s \n",
            "\u001b[?25hRequirement already satisfied: protobuf>=3.6.1 in /usr/local/lib/python3.6/dist-packages (from tensorflow-gpu==1.14.0) (3.10.0)\n",
            "Requirement already satisfied: keras-applications>=1.0.6 in /usr/local/lib/python3.6/dist-packages (from tensorflow-gpu==1.14.0) (1.0.8)\n",
            "Requirement already satisfied: werkzeug>=0.11.15 in /usr/local/lib/python3.6/dist-packages (from tensorboard<1.15.0,>=1.14.0->tensorflow-gpu==1.14.0) (0.16.0)\n",
            "Requirement already satisfied: setuptools>=41.0.0 in /usr/local/lib/python3.6/dist-packages (from tensorboard<1.15.0,>=1.14.0->tensorflow-gpu==1.14.0) (41.4.0)\n",
            "Requirement already satisfied: markdown>=2.6.8 in /usr/local/lib/python3.6/dist-packages (from tensorboard<1.15.0,>=1.14.0->tensorflow-gpu==1.14.0) (3.1.1)\n",
            "Requirement already satisfied: h5py in /usr/local/lib/python3.6/dist-packages (from keras-applications>=1.0.6->tensorflow-gpu==1.14.0) (2.8.0)\n",
            "\u001b[31mERROR: tensorflow 1.15.0 has requirement tensorboard<1.16.0,>=1.15.0, but you'll have tensorboard 1.14.0 which is incompatible.\u001b[0m\n",
            "\u001b[31mERROR: tensorflow 1.15.0 has requirement tensorflow-estimator==1.15.1, but you'll have tensorflow-estimator 1.14.0 which is incompatible.\u001b[0m\n",
            "Installing collected packages: tensorflow-estimator, tensorboard, tensorflow-gpu\n",
            "  Found existing installation: tensorflow-estimator 1.15.1\n",
            "    Uninstalling tensorflow-estimator-1.15.1:\n",
            "      Successfully uninstalled tensorflow-estimator-1.15.1\n",
            "  Found existing installation: tensorboard 1.15.0\n",
            "    Uninstalling tensorboard-1.15.0:\n",
            "      Successfully uninstalled tensorboard-1.15.0\n",
            "Successfully installed tensorboard-1.14.0 tensorflow-estimator-1.14.0 tensorflow-gpu-1.14.0\n",
            "Collecting tensorflow_text==0.1.0\n",
            "\u001b[?25l  Downloading https://files.pythonhosted.org/packages/f0/85/46411195f3961f4906c7e519d7a5cf017882d59149393d7c311e97cf7080/tensorflow_text-0.1.0-cp36-cp36m-manylinux1_x86_64.whl (6.2MB)\n",
            "\u001b[K     |████████████████████████████████| 6.2MB 8.9MB/s \n",
            "\u001b[?25hInstalling collected packages: tensorflow-text\n",
            "Successfully installed tensorflow-text-0.1.0\n"
          ],
          "name": "stdout"
        }
      ]
    },
    {
      "cell_type": "code",
      "metadata": {
        "id": "KSyjAZvYHrRI",
        "colab_type": "code",
        "colab": {}
      },
      "source": [
        "# Import the required dependencies\n",
        "\n",
        "import tensorflow_hub as tfhub\n",
        "import tensorflow as tf\n",
        "import tensorflow_text  # required for tokenization ops\n",
        "\n",
        "sess = None\n",
        "\n",
        "assert tf.__version__ == \"1.14.0\", (\n",
        "    f\"found tf version {tf.__version__}, but need 1.14.0\")\n",
        "assert tf.test.is_gpu_available(), (\n",
        "    \"GPU not available. please use a GPU runtime\")"
      ],
      "execution_count": 0,
      "outputs": []
    },
    {
      "cell_type": "markdown",
      "metadata": {
        "id": "fTlzHg_xMnNz",
        "colab_type": "text"
      },
      "source": [
        "# Computing sentence encodings\n",
        "\n",
        "The default signature for ConveRT encodes sentences to a meaningful semantic space. Sentences can be compared for semantic similarity in this space, and NLP classifiers can be trained on top of these encodings.\n",
        "\n",
        "This section demonstrates encoding texts with ConveRT, and computing similarities."
      ]
    },
    {
      "cell_type": "code",
      "metadata": {
        "id": "mLRhwAmSAhAp",
        "colab_type": "code",
        "outputId": "ccea72a4-d87c-41de-a549-d797ed312270",
        "colab": {
          "base_uri": "https://localhost:8080/",
          "height": 68
        }
      },
      "source": [
        "# Load the tensorflow hub module into a fresh session.\n",
        "\n",
        "if sess is not None:\n",
        "    sess.close()\n",
        "\n",
        "sess = tf.InteractiveSession(graph=tf.Graph())\n",
        "\n",
        "module = tfhub.Module(\"http://models.poly-ai.com/convert/v1/model.tar.gz\")\n",
        "\n",
        "text_placeholder = tf.placeholder(dtype=tf.string, shape=[None])\n",
        "encoding_tensor = module(text_placeholder)\n",
        "encoding_dim = int(encoding_tensor.shape[1])\n",
        "print(f\"ConveRT encodes text to {encoding_dim}-dimensional vectors\")\n",
        "\n",
        "sess.run(tf.tables_initializer())\n",
        "sess.run(tf.global_variables_initializer())\n",
        "\n",
        "\n",
        "def encode(texts):\n",
        "    \"\"\"Encode the given texts to the encoding space.\"\"\"\n",
        "    return sess.run(encoding_tensor, feed_dict={text_placeholder: texts})"
      ],
      "execution_count": 0,
      "outputs": [
        {
          "output_type": "stream",
          "text": [
            "INFO:tensorflow:Saver not created because there are no variables in the graph to restore\n"
          ],
          "name": "stdout"
        },
        {
          "output_type": "stream",
          "text": [
            "INFO:tensorflow:Saver not created because there are no variables in the graph to restore\n"
          ],
          "name": "stderr"
        },
        {
          "output_type": "stream",
          "text": [
            "ConveRT encodes text to 1024-dimensional vectors\n"
          ],
          "name": "stdout"
        }
      ]
    },
    {
      "cell_type": "code",
      "metadata": {
        "id": "BFGC5EITDoqU",
        "colab_type": "code",
        "outputId": "7043917b-e0cc-45cb-d49b-1807499a194e",
        "colab": {
          "base_uri": "https://localhost:8080/",
          "height": 392
        }
      },
      "source": [
        "# Compute the similarity between a collection of sentences.\n",
        "\n",
        "import numpy as np\n",
        "from sklearn.metrics import pairwise\n",
        "import seaborn\n",
        "\n",
        "texts = [\n",
        "         # booking a ride\n",
        "         \"can i book a car?\",\n",
        "         \"i need a ride from my place\",\n",
        "         \"book a taxi\",\n",
        "\n",
        "         # asking for ETA\n",
        "         \"when will it arrive?\",\n",
        "         \"what is the ETA?\",\n",
        "         \"when will it be here?\",\n",
        "\n",
        "         # asking to talk to a human\n",
        "         \"can i talk to a real person\",\n",
        "         \"i don't want to talk to a robot.\",\n",
        "         \"let me speak to a human.\",\n",
        "]\n",
        "\n",
        "# Pad with \"\" to make heatmap display better.\n",
        "texts = [\"\"] + texts + [\"\"]\n",
        "\n",
        "encodings = encode(texts)\n",
        "\n",
        "similarities = pairwise.cosine_similarity(encodings)\n",
        "seaborn.set(font_scale=0.8)\n",
        "g = seaborn.heatmap(\n",
        "    similarities,\n",
        "    xticklabels=texts,\n",
        "    yticklabels=texts,\n",
        "    vmin=0.,\n",
        "    vmax=1.,\n",
        "    cmap=\"BuGn\",\n",
        "    square=True,\n",
        ")"
      ],
      "execution_count": 0,
      "outputs": [
        {
          "output_type": "display_data",
          "data": {
            "image/png": "[encoded data removed]",
            "text/plain": [
              "<Figure size 432x288 with 2 Axes>"
            ]
          },
          "metadata": {
            "tags": []
          }
        }
      ]
    },
    {
      "cell_type": "markdown",
      "metadata": {
        "id": "URPyrfw0nT0x",
        "colab_type": "text"
      },
      "source": [
        "# Response Ranking\n",
        "\n",
        "ConveRT is trained on the response ranking task, so it can be used to find good responses to a given conversational context.\n",
        "\n",
        "This section demonstrates how to rank responses, by computing cosine similarities of context and response representations in the shared response ranking space. Response representations for a fixed candidate list are first pre-computed. When a new context is provided, it is encoded and then compared to the pre-computed response representations."
      ]
    },
    {
      "cell_type": "code",
      "metadata": {
        "id": "Ocu1flTekqbU",
        "colab_type": "code",
        "outputId": "26e13a78-9234-4df7-9f14-a2848505e294",
        "colab": {
          "base_uri": "https://localhost:8080/",
          "height": 102
        }
      },
      "source": [
        "if sess is not None:\n",
        "    sess.close()\n",
        "\n",
        "sess = tf.InteractiveSession(graph=tf.Graph())\n",
        "\n",
        "module = tfhub.Module(\"http://models.poly-ai.com/convert/v1/model.tar.gz\")\n",
        "\n",
        "text_placeholder = tf.placeholder(dtype=tf.string, shape=[None])\n",
        "context_encoding_tensor = module(text_placeholder, signature=\"encode_context\")\n",
        "response_encoding_tensor = module(text_placeholder, signature=\"encode_response\")\n",
        "\n",
        "encoding_dim = int(context_encoding_tensor.shape[1])\n",
        "print(f\"ConveRT encodes contexts & responses to {encoding_dim}-dimensional vectors\")\n",
        "\n",
        "sess.run(tf.tables_initializer())\n",
        "sess.run(tf.global_variables_initializer())\n",
        "\n",
        "def encode_contexts(texts):\n",
        "    return sess.run(context_encoding_tensor, feed_dict={text_placeholder: texts})\n",
        "\n",
        "def encode_responses(texts):\n",
        "    return sess.run(response_encoding_tensor, feed_dict={text_placeholder: texts})"
      ],
      "execution_count": 0,
      "outputs": [
        {
          "output_type": "stream",
          "text": [
            "INFO:tensorflow:Saver not created because there are no variables in the graph to restore\n"
          ],
          "name": "stdout"
        },
        {
          "output_type": "stream",
          "text": [
            "INFO:tensorflow:Saver not created because there are no variables in the graph to restore\n"
          ],
          "name": "stderr"
        },
        {
          "output_type": "stream",
          "text": [
            "INFO:tensorflow:Saver not created because there are no variables in the graph to restore\n"
          ],
          "name": "stdout"
        },
        {
          "output_type": "stream",
          "text": [
            "INFO:tensorflow:Saver not created because there are no variables in the graph to restore\n"
          ],
          "name": "stderr"
        },
        {
          "output_type": "stream",
          "text": [
            "ConveRT encodes contexts & responses to 512-dimensional vectors\n"
          ],
          "name": "stdout"
        }
      ]
    },
    {
      "cell_type": "code",
      "metadata": {
        "id": "p5EIo6dsnt_V",
        "colab_type": "code",
        "outputId": "72eedbc3-7a90-4735-d891-e3c620526276",
        "colab": {
          "base_uri": "https://localhost:8080/",
          "height": 122
        }
      },
      "source": [
        "# Pre-encode responses.\n",
        "# Download a file of random facts to serve as candidate responses for the demo.\n",
        "!wget -q https://raw.githubusercontent.com/assaf/dailyhi/a35ba9fc1744dfb399d82abbc5f2d4e4216fbd45/facts.txt -O facts.txt\n",
        "\n",
        "import numpy as np\n",
        "import random\n",
        "\n",
        "responses = []\n",
        "with open(\"facts.txt\") as f:\n",
        "    for line in f:\n",
        "        responses.append(line.strip())\n",
        "\n",
        "print(\"\\n\\t- \".join([\"Three random facts:\"] + random.sample(responses, 3)))\n",
        "\n",
        "# Encode the responses in batches of 64.\n",
        "batch_size = 64\n",
        "response_encodings = []\n",
        "for i in range(0, len(responses), batch_size):\n",
        "    batch = responses[i:i + batch_size]\n",
        "    response_encodings.append(encode_responses(batch))\n",
        "\n",
        "response_encodings = np.concatenate(response_encodings)\n",
        "print(f\"Encoded {response_encodings.shape[0]} candidate responses.\")"
      ],
      "execution_count": 0,
      "outputs": [
        {
          "output_type": "stream",
          "text": [
            "Three random facts:\n",
            "\t- Chocolate accounts for less than two percent of the fat in the American diet\n",
            "\t- During World War II, there was not enough sugar in the U.S. to make candy as it was sent to the troops overseas. At this time, popcorn was consumed three times more than its usual amount\n",
            "\t- There are an estimated 2,500 collisions between birds and planes each year in the US\n",
            "Encoded 3090 candidate responses.\n"
          ],
          "name": "stdout"
        }
      ]
    },
    {
      "cell_type": "code",
      "metadata": {
        "id": "RkBdMitBrA5u",
        "colab_type": "code",
        "cellView": "both",
        "outputId": "9630c899-e02b-4fc3-c9e2-c42bb4dd8ce3",
        "colab": {
          "base_uri": "https://localhost:8080/",
          "height": 34
        }
      },
      "source": [
        "#@title Rank responses { run: \"auto\" }\n",
        "#@markdown Find the best response in a list of around 3 thousand random facts. \n",
        "context = \"what can you tell me about forests?\" # @param {type:\"string\"}\n",
        "if context:\n",
        "    context_encoding = encode_contexts([context])\n",
        "    scores = np.dot(response_encodings, context_encoding.T)\n",
        "    top_index = np.argmax(scores)\n",
        "    top_score = float(scores[top_index])\n",
        "    print(f\"[{top_score:.3f}] {responses[top_index]}\")"
      ],
      "execution_count": 0,
      "outputs": [
        {
          "output_type": "stream",
          "text": [
            "[0.374] An acre of trees can remove about 13 tons of dust and gases every year from the surrounding environment\n"
          ],
          "name": "stdout"
        }
      ]
    },
    {
      "cell_type": "markdown",
      "metadata": {
        "id": "--fvxsGurWZR",
        "colab_type": "text"
      },
      "source": [
        "# Multi-Context ConveRT\n",
        "\n",
        "The multi-context version of ConveRT has the same interface as ConveRT, except that when encoding contexts, it also takes extra dialogue history as input.\n",
        "\n",
        "The extra context must be passed as a single string, where earlier contexts are joined with spaces from most recent to oldest.\n",
        "\n",
        "An example from the ConveRT paper, where extra contexts would help is:\n",
        "\n",
        "> Student:  I’m looking for good courses to take.\n",
        ">\n",
        "> Advisor: Are you looking for courses in a specific area?\n",
        ">\n",
        "> Student: Not in particular.\n",
        ">\n",
        "> Advisor: Are you looking to take a very difficult class?\n",
        "\n",
        "This section will demonstrate how Multi-context ConveRT can be used to select that last response from the Advisor. (Without more context that \"Not in particular\", this would be hard)."
      ]
    },
    {
      "cell_type": "code",
      "metadata": {
        "id": "9xUwIHwBsUlq",
        "colab_type": "code",
        "outputId": "a8e97e03-9e41-45ea-8049-45ebccfc73d6",
        "colab": {
          "base_uri": "https://localhost:8080/",
          "height": 102
        }
      },
      "source": [
        "import numpy as np\n",
        "\n",
        "if sess is not None:\n",
        "    sess.close()\n",
        "\n",
        "sess = tf.InteractiveSession(graph=tf.Graph())\n",
        "\n",
        "module = tfhub.Module(\"http://models.poly-ai.com/multi_context_convert/v1/model.tar.gz\")\n",
        "\n",
        "text_placeholder = tf.placeholder(dtype=tf.string, shape=[None])\n",
        "extra_text_placeholder = tf.placeholder(dtype=tf.string, shape=[None])\n",
        "\n",
        "# The encode_context signature now also takes the extra context.\n",
        "context_encoding_tensor = module(\n",
        "    {\n",
        "        'context': text_placeholder,\n",
        "        'extra_context': extra_text_placeholder,\n",
        "    },\n",
        "    signature=\"encode_context\"\n",
        ")\n",
        "response_encoding_tensor = module(text_placeholder, signature=\"encode_response\")\n",
        "\n",
        "encoding_dim = int(context_encoding_tensor.shape[1])\n",
        "print(f\"ConveRT encodes contexts & responses to {encoding_dim}-dimensional vectors\")\n",
        "\n",
        "sess.run(tf.tables_initializer())\n",
        "sess.run(tf.global_variables_initializer())\n",
        "\n",
        "def encode_context(dialogue_history):\n",
        "    \"\"\"Encode the dialogue context to the response ranking vector space.\n",
        "\n",
        "    Args:\n",
        "        dialogue_history: a list of strings, the dialogue history, in\n",
        "            chronological order.\n",
        "    \"\"\"\n",
        "\n",
        "    # The context is the most recent message in the history.\n",
        "    context = dialogue_history[-1]\n",
        "\n",
        "    extra_context = list(dialogue_history[:-1])\n",
        "    extra_context.reverse()\n",
        "    extra_context_feature = \" \".join(extra_context)\n",
        "\n",
        "    return sess.run(\n",
        "        context_encoding_tensor,\n",
        "        feed_dict={\n",
        "            text_placeholder: [context],\n",
        "            extra_text_placeholder: [extra_context_feature],\n",
        "        }\n",
        "    )[0]\n",
        "\n",
        "def encode_responses(texts):\n",
        "    return sess.run(response_encoding_tensor, feed_dict={text_placeholder: texts})"
      ],
      "execution_count": 0,
      "outputs": [
        {
          "output_type": "stream",
          "text": [
            "INFO:tensorflow:Saver not created because there are no variables in the graph to restore\n"
          ],
          "name": "stdout"
        },
        {
          "output_type": "stream",
          "text": [
            "INFO:tensorflow:Saver not created because there are no variables in the graph to restore\n"
          ],
          "name": "stderr"
        },
        {
          "output_type": "stream",
          "text": [
            "INFO:tensorflow:Saver not created because there are no variables in the graph to restore\n"
          ],
          "name": "stdout"
        },
        {
          "output_type": "stream",
          "text": [
            "INFO:tensorflow:Saver not created because there are no variables in the graph to restore\n"
          ],
          "name": "stderr"
        },
        {
          "output_type": "stream",
          "text": [
            "ConveRT encodes contexts & responses to 512-dimensional vectors\n"
          ],
          "name": "stdout"
        }
      ]
    },
    {
      "cell_type": "code",
      "metadata": {
        "id": "tosSAnB0tTGM",
        "colab_type": "code",
        "outputId": "3c24167f-47a9-4a5f-965d-7fa84b97c544",
        "colab": {
          "base_uri": "https://localhost:8080/",
          "height": 34
        }
      },
      "source": [
        "context_encoding = encode_context(\n",
        "    [\n",
        "     \"I'm looking for good courses to take.\",\n",
        "     \"Are you looking for courses in a specific area?\",\n",
        "     \"Not in particular.\",\n",
        "     ]\n",
        ")\n",
        "\n",
        "candidate_responses = [\n",
        "    \"Me neither.\",\n",
        "    # We hope it selects the following sentence:\n",
        "    \"Are you looking to take a very difficult class?\",\n",
        "    \"Why not?\",\n",
        "    \"Please finish the exercise first.\",\n",
        "    \"Nothing in particular?\",\n",
        "    \"Would you like fries with that?\",\n",
        "    \"School's for fools, look at me!\",\n",
        "    \"Our higher education system is one of the things that makes America exceptional.\",\n",
        "]\n",
        "response_encodings = encode_responses(candidate_responses)\n",
        "\n",
        "scores = context_encoding.dot(response_encodings.T)\n",
        "top_idx = np.argmax(scores)\n",
        "\n",
        "print(\n",
        "    f\"Best response:\\n\\t'{candidate_responses[top_idx]}'\\n\"\n",
        "    f\"\\t\\tscore: {scores[top_idx]:.3f}\"\n",
        ")\n",
        "\n",
        "indices = np.argsort(scores)[::-1][1:]\n",
        "print(\"Other responses:\")\n",
        "for index in indices:\n",
        "    print(\n",
        "        f\"\\t'{candidate_responses[index]}'\\n\"\n",
        "        f\"\\t\\tscore: {scores[index]:.3f}\"\n",
        "    )\n",
        "\n"
      ],
      "execution_count": 0,
      "outputs": [
        {
          "output_type": "stream",
          "text": [
            "Best response:\n",
            "\t'Are you looking to take a very difficult class?'\n",
            "\t\tscore: 0.439\n",
            "Other responses:\n",
            "\t'Nothing in particular?'\n",
            "\t\tscore: 0.285\n",
            "\t'Why not?'\n",
            "\t\tscore: 0.137\n",
            "\t'Me neither.'\n",
            "\t\tscore: 0.113\n",
            "\t'Please finish the exercise first.'\n",
            "\t\tscore: 0.084\n",
            "\t'Our higher education system is one of the things that makes America exceptional.'\n",
            "\t\tscore: 0.055\n",
            "\t'Would you like fries with that?'\n",
            "\t\tscore: 0.025\n",
            "\t'School's for fools, look at me!'\n",
            "\t\tscore: 0.016\n"
          ],
          "name": "stdout"
        }
      ]
    }
  ]
}
